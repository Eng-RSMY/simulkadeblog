{
 "cells": [
  {
   "cell_type": "markdown",
   "metadata": {
    "collapsed": false
   },
   "source": [
    "There are many cases where the transfer coefficient in the convection-diffusion equations is a function of the independent variable. This makes the PDE nonlinear. While working on my thesis, I realized that it is not that difficult to use the Taylor expansion to linearize the nonlinear terms in a PDE. Here, I'm going to give a simple example. In another post, I will explain how the same idea can be used to numerically solve the Buckley-Leverett equation."
   ]
  },
  {
   "cell_type": "markdown",
   "metadata": {},
   "source": [
    "## The PDE\n",
    "I'm going to try a simple one here. I say try because I'm actually making it up right now. The equation reads $$\\frac{\\partial\\phi}{\\partial t}+\\nabla . (-D\\nabla \\phi) =0$$ where $$D=D_0(1+\\phi^2).$$ It means that the diffusion coefficient is increased when the concentration of the solute increases.  \n",
    "To linearize this equation, I assume that $\\phi$ and $\\nabla \\phi$ are independent variables. Using Taylor expansion around a point $\\phi_0$, we can obtain the following general form: $$f\\left(\\phi\\right)\\nabla \\phi=f\\left(\\phi_{0}\\right)\\nabla \\phi+\\nabla \\phi_{0}\\left(\\frac{\\partial f}{\\partial \\phi}\\right)_{\\phi_{0}}\\left(\\phi-\\phi_{0}\\right).$$ In our case, this equation simplifies to $$D_0(1+\\phi^2)\\nabla \\phi=D_0(1+\\phi_0^2)\\nabla \\phi+2D_0\\phi_0\\nabla \\phi_0(\\phi-\\phi_0).$$ Putting back everythin together, we obtain this linearized form for our PDE $$\\frac{\\partial\\phi}{\\partial t}+\\nabla.(-D_{0}(1+\\phi_{0}^{2})\\nabla\\phi)+\\nabla.(-2D_{0}\\phi_{0}\\nabla\\phi_{0}\\phi)=\\nabla.(-2D_{0}\\phi_{0}\\nabla\\phi_{0}\\phi_{0}).$$ Don't freak out! This equation is actually quite simple. By linearizing, we have added a linear convection term to our nonlinear diffusion equation. This equation is still an approximation of the real PDE. We have to solve the linear equation for $\\phi$ by initializing $\\phi_0$. Then, we assign the new value of $\\phi$ to $\\phi_0$ until it converges to a solution."
   ]
  }
 ],
 "metadata": {
  "kernelspec": {
   "display_name": "Julia 0.3.6",
   "language": "julia",
   "name": "julia 0.3"
  },
  "language_info": {
   "name": "julia",
   "version": "0.3.7"
  }
 },
 "nbformat": 4,
 "nbformat_minor": 0
}
