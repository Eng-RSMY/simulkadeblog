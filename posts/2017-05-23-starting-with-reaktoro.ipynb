{
 "cells": [
  {
   "cell_type": "markdown",
   "metadata": {},
   "source": [
    "I recently heard about the [Reaktoro](https://bitbucket.org/reaktoro/reaktoro) project, which is a platform for the fast calculation of geochemical reactions (both equilibrium and kinetics). I'm working mostly with the adsorption reactions, so I was not interested at the beginning although the code is very polished, clean, and readable even for me with a tiny knowledge of C++. At the end the Python interface and the [Helgeson-Kirkham-Flowers](http://www.ajsonline.org/content/281/10/1249.short) (HKF) equation of state tempted me to give it a try. I followed the installation procedure [here](http://reaktoro.org/installation.html) and it went very well on my Linux Mint machine. The Python package is installed in the `/usr/local/lib/python2.7/site-packages/` which is not in the python path. You need to add it manually:"
   ]
  },
  {
   "cell_type": "code",
   "execution_count": 1,
   "metadata": {
    "collapsed": true
   },
   "outputs": [],
   "source": [
    "import sys\n",
    "sys.path.append(\"/usr/local/lib/python2.7/site-packages/\")"
   ]
  },
  {
   "cell_type": "markdown",
   "metadata": {},
   "source": [
    "Then I looked at the Python examples and demos and found the answer to my question: calculation of (partial molar) Gibbs energy and the equilibrium constants for some electrolyte reactions, using the HKF EOS and a beautiful scripting language. It even convinced me to create a bitbucket account! As an example, the following code (that is a modified version of a Reaktoro example) is how the equilibrium constant for a reaction can be calculated:"
   ]
  },
  {
   "cell_type": "code",
   "execution_count": 2,
   "metadata": {
    "collapsed": true
   },
   "outputs": [],
   "source": [
    "from reaktoro import *\n",
    "from numpy import *\n",
    "import matplotlib.pyplot as plt"
   ]
  },
  {
   "cell_type": "code",
   "execution_count": 3,
   "metadata": {
    "collapsed": true
   },
   "outputs": [],
   "source": [
    "database = Database(\"supcrt98.xml\")\n",
    "thermo = Thermo(database)"
   ]
  },
  {
   "cell_type": "markdown",
   "metadata": {},
   "source": [
    "I am interested in the equilibrium constant of the following reaction:  \n",
    "$$ CaOH^+ + SO_4^{-2} = CaSO_4 + OH^-$$\n",
    "I tried different way of writing this reaction and finally the following version worked:"
   ]
  },
  {
   "cell_type": "code",
   "execution_count": 4,
   "metadata": {},
   "outputs": [
    {
     "data": {
      "text/plain": [
       "2.145092126874757"
      ]
     },
     "execution_count": 4,
     "metadata": {},
     "output_type": "execute_result"
    }
   ],
   "source": [
    "reac1 = 'CaOH+ + SO4-- = CaSO4(aq) + OH-'\n",
    "T = 300 # K\n",
    "p = 1e5 # Pa\n",
    "R = 8.3144598 # J/(mol.K)\n",
    "thermo.lnEquilibriumConstant(T, p, reac1).val"
   ]
  },
  {
   "cell_type": "markdown",
   "metadata": {},
   "source": [
    "Let's do the calculation by using the basic relation \n",
    "$$\\ln K_{eq} = \\frac{-\\Delta_r G}{RT} $$ "
   ]
  },
  {
   "cell_type": "code",
   "execution_count": 5,
   "metadata": {},
   "outputs": [
    {
     "data": {
      "text/plain": [
       "2.1450927202641066"
      ]
     },
     "execution_count": 5,
     "metadata": {},
     "output_type": "execute_result"
    }
   ],
   "source": [
    "dgrt = thermo.standardPartialMolarGibbsEnergy(T, p, 'CaSO4(aq)').val+ \\\n",
    "thermo.standardPartialMolarGibbsEnergy(T, p, 'OH-').val- \\\n",
    "thermo.standardPartialMolarGibbsEnergy(T, p, 'SO4--').val- \\\n",
    "thermo.standardPartialMolarGibbsEnergy(T, p, 'CaOH+').val\n",
    "-dgrt/R/T"
   ]
  },
  {
   "cell_type": "markdown",
   "metadata": {},
   "source": [
    "There is a small difference between the two values that I guess is due to the difference between the number of significant digits that I have used for the universal gas constant. Otherwise, everything works great, and the values are in agreement with what I have previously calculated myself."
   ]
  },
  {
   "cell_type": "markdown",
   "metadata": {},
   "source": [
    "## Van't Hoff equation\n",
    "Let's do something interesting. We know from [Van't Hoff](https://en.wikipedia.org/wiki/Van_%27t_Hoff_equation) equation that\n",
    "$$\\frac{\\text{d}\\ln K_{eq}}{\\text{d}\\frac{1}{T}} = -\\frac{\\Delta_r H}{R}.$$\n",
    "It means that if I plot $\\ln K_{eq}$ versus $\\frac{1}{T}$, I get (almost) an straight line with a slope of $-\\frac{\\Delta_r H}{R}$. Let's do the calculations in Reaktoro:"
   ]
  },
  {
   "cell_type": "code",
   "execution_count": 6,
   "metadata": {},
   "outputs": [
    {
     "data": {
      "image/png": "[encoded data removed]",
      "text/plain": [
       "<matplotlib.figure.Figure at 0x7f9c82891f10>"
      ]
     },
     "metadata": {},
     "output_type": "display_data"
    }
   ],
   "source": [
    "T_range = linspace(25+273.15, 80+273.15, 10)\n",
    "ln_keq = []\n",
    "for T in T_range:\n",
    "    ln_keq.append(thermo.lnEquilibriumConstant(T, p, reac1).val)\n",
    "plt.plot(1/T_range, ln_keq)\n",
    "plt.xlabel(\"1/T [1/K]\")\n",
    "plt.ylabel(\"ln(K_eq)\")\n",
    "plt.show()"
   ]
  },
  {
   "cell_type": "markdown",
   "metadata": {},
   "source": [
    "## Compare the results\n",
    "We can calculate the enthalpy of reaction in different temperatures in Reaktoro and compare it with the approximate value that is the slope of the above line multiplied by -R. Let's do the calculation and plot the results:"
   ]
  },
  {
   "cell_type": "code",
   "execution_count": 7,
   "metadata": {},
   "outputs": [
    {
     "data": {
      "image/png": "[encoded data removed]",
      "text/plain": [
       "<matplotlib.figure.Figure at 0x7f9c805a96d0>"
      ]
     },
     "metadata": {},
     "output_type": "display_data"
    }
   ],
   "source": [
    "dh_fit  = -polyfit(1/T_range, ln_keq, 1)[0]*R\n",
    "dh_calc = []\n",
    "for T in T_range:\n",
    "    dh_calc.append(thermo.standardPartialMolarEnthalpy(T, p, 'CaSO4(aq)').val+ \\\n",
    "    thermo.standardPartialMolarEnthalpy(T, p, 'OH-').val- \\\n",
    "    thermo.standardPartialMolarEnthalpy(T, p, 'SO4--').val- \\\n",
    "    thermo.standardPartialMolarEnthalpy(T, p, 'CaOH+').val)\n",
    "plt.plot(T_range, dh_calc, label = \"HKF\")\n",
    "plt.plot(T_range, ones(T_range.size)*dh_fit, label = \"Van't Hoff\")\n",
    "plt.legend()\n",
    "plt.xlabel(\"T [K]\")\n",
    "plt.ylabel(\"\\Delta H [J/mol]\")\n",
    "plt.show()"
   ]
  },
  {
   "cell_type": "markdown",
   "metadata": {},
   "source": [
    "In my opinion, it is very important for a software to enable the user to do the very basic stuff as Reaktoro helped me to do the above calculations. I still miss a few functionalities in Reaktoro: oxidation/reduction reaction and ion exchange/surface complexation models. Fortunately, Reaktoro is under active development and the new features will appear soon."
   ]
  }
 ],
 "metadata": {
  "kernelspec": {
   "display_name": "Python 2",
   "language": "python",
   "name": "python2"
  },
  "language_info": {
   "codemirror_mode": {
    "name": "ipython",
    "version": 2
   },
   "file_extension": ".py",
   "mimetype": "text/x-python",
   "name": "python",
   "nbconvert_exporter": "python",
   "pygments_lexer": "ipython2",
   "version": "2.7.12"
  },
  "nikola": {
   "category": "",
   "date": "2017-05-23 09:02:37 UTC+02:00",
   "description": "",
   "link": "",
   "slug": "starting-with-reaktoro",
   "tags": "",
   "title": "Starting with Reaktoro",
   "type": "text"
  }
 },
 "nbformat": 4,
 "nbformat_minor": 2
}
