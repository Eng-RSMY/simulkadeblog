{
 "cells": [
  {
   "cell_type": "markdown",
   "metadata": {},
   "source": [
    "I recently heard about the [Reaktoro](https://bitbucket.org/reaktoro/reaktoro) project, which is a platform for the fast calculation of geochemical reactions (both equilibrium and kinetics). I'm working mostly with the adsorption reactions, so I was not interested at the beginning although the code is very polished, clean, and readable even for me with a tiny knowledge of C++. At the end the Python interface and the HKF equation of state tempted me to give it a try. I followed the installation procedure [here](http://reaktoro.org) and it went very well on my Linux Mint machine. The Python package is installed in the `/usr/local/lib/python2.7/site-packages/` which is not in the python path. You need to add it manually:"
   ]
  },
  {
   "cell_type": "code",
   "execution_count": 2,
   "metadata": {},
   "outputs": [
    {
     "name": "stdout",
     "output_type": "stream",
     "text": [
      "\n",
      "/usr/lib/python2.7\n",
      "/usr/lib/python2.7/plat-x86_64-linux-gnu\n",
      "/usr/lib/python2.7/lib-tk\n",
      "/usr/lib/python2.7/lib-old\n",
      "/usr/lib/python2.7/lib-dynload\n",
      "/usr/local/lib/python2.7/dist-packages\n",
      "/usr/lib/python2.7/dist-packages\n",
      "/usr/lib/python2.7/dist-packages/PILcompat\n",
      "/usr/lib/python2.7/dist-packages/gtk-2.0\n",
      "/usr/lib/python2.7/dist-packages/ubuntu-sso-client\n",
      "/usr/lib/python2.7/dist-packages/wx-3.0-gtk2\n",
      "/usr/local/lib/python2.7/dist-packages/IPython/extensions\n",
      "/home/ali/.ipython\n"
     ]
    }
   ],
   "source": [
    "import sys\n",
    "sys.path.append(\"/usr/local/lib/python2.7/site-packages/\")\n",
    "print '\\n'.join(sys.path)"
   ]
  },
  {
   "cell_type": "markdown",
   "metadata": {},
   "source": [
    "Then I looked at the Python examples and demos and found the answer to my question: calculation of (partial molar) Gibbs energy and the equilibrium constants for some electrolyte reactions, using the HKF EOS and a beautiful scripting language. It even convinced me to create a bitbucket account! This is how the equilibrium constant for a reaction can be calculated:"
   ]
  },
  {
   "cell_type": "code",
   "execution_count": 7,
   "metadata": {
    "collapsed": true
   },
   "outputs": [],
   "source": [
    "from reaktoro import *\n",
    "from numpy import *\n",
    "database = Database(\"supcrt98.xml\")\n",
    "thermo = Thermo(database)"
   ]
  },
  {
   "cell_type": "markdown",
   "metadata": {},
   "source": [
    "I was looking for the equilibrium constant of the following reaction:  \n",
    "$$ CaOH^+ + SO_4^{-2} = CaSO_4 + OH^-$$\n",
    "I tried different way of writing this reaction and finally the following version worked:"
   ]
  },
  {
   "cell_type": "code",
   "execution_count": 14,
   "metadata": {},
   "outputs": [
    {
     "data": {
      "text/plain": [
       "2.145092126874757"
      ]
     },
     "execution_count": 14,
     "metadata": {},
     "output_type": "execute_result"
    }
   ],
   "source": [
    "reac1 = 'CaOH+ + SO4-- = CaSO4(aq) + OH-'\n",
    "T = 300 # K\n",
    "p = 1e5 # Pa\n",
    "thermo.lnEquilibriumConstant(T, p, reac1).val"
   ]
  },
  {
   "cell_type": "markdown",
   "metadata": {},
   "source": [
    "Let's do the calculation by using the basic relation \n",
    "$$\\ln K_{eq} = \\frac{-\\Delta_r G}{RT} $$ "
   ]
  },
  {
   "cell_type": "code",
   "execution_count": 17,
   "metadata": {},
   "outputs": [
    {
     "data": {
      "text/plain": [
       "2.1450927202641066"
      ]
     },
     "execution_count": 17,
     "metadata": {},
     "output_type": "execute_result"
    }
   ],
   "source": [
    "dgrt = thermo.standardPartialMolarGibbsEnergy(T, p, 'CaSO4(aq)').val+ \\\n",
    "thermo.standardPartialMolarGibbsEnergy(T, p, 'OH-').val- \\\n",
    "thermo.standardPartialMolarGibbsEnergy(T, p, 'SO4--').val- \\\n",
    "thermo.standardPartialMolarGibbsEnergy(T, p, 'CaOH+').val\n",
    "-dgrt/8.3144598/T"
   ]
  },
  {
   "cell_type": "markdown",
   "metadata": {},
   "source": [
    "There is a small difference between the two values that I guess is due to the difference between the number of significant digits that I have used for the universal gas constant. Otherwise, everything works great, and the values are in agreement with what I have previously calculated.\n",
    "\n",
    "## What I miss\n",
    "I'm not quite sure if the oxidation/reduction reactions are included in Reaktoro, but it would be fantastic to be able to use them for the type of calculation that I do these days."
   ]
  },
  {
   "cell_type": "code",
   "execution_count": 18,
   "metadata": {
    "collapsed": true
   },
   "outputs": [],
   "source": [
    "# reaction: CaOH+ + CH3COO- = CaOH-CH3COO not possible with this database\n",
    "# I'll try similar reactions"
   ]
  },
  {
   "cell_type": "markdown",
   "metadata": {},
   "source": [
    "Write your post here.I recently heard about the [Reaktoro](https://bitbucket.org/reaktoro/reaktoro) project, which is a platform for the fast calculation of geochemical reactions (both equilibrium and kinetics). I'm working mostly with the adsorption reactions, so I was not interested at the beginning although the code is very polished, clean, and readable even for me with a tiny knowledge of C++. At the end the Python interface and the HKF equation of state tempted me to give it a try. I followed the installation procedure [here](http://reaktoro.org) and it went very well on my Linux Mint machine. The Python package is installed in the `/usr/local/lib/python2.7/site-packages/` which is not in the python path. You need to add it manually:\n",
    "\n",
    "import sys\n",
    "sys.path.append(\"/usr/local/lib/python2.7/site-packages/\")\n",
    "print '\\n'.join(sys.path)\n",
    "\n",
    "Then I looked at the Python examples and demos and found the answer to my question: calculation of (partial molar) Gibbs energy and the equilibrium constants for some electrolyte reactions, using the HKF EOS and a beautiful scripting language. It even convinced me to create a bitbucket account! This is how the equilibrium constant for a reaction can be calculated:\n",
    "\n",
    "from reaktoro import *\n",
    "from numpy import *\n",
    "database = Database(\"supcrt98.xml\")\n",
    "thermo = Thermo(database)\n",
    "\n",
    "I was looking for the equilibrium constant of the following reaction:  \n",
    "$$ CaOH^+ + SO_4^{-2} = CaSO_4 + OH^-$$\n",
    "I tried different way of writing this reaction and finally the following version worked:\n",
    "\n",
    "reac1 = 'CaOH+ + SO4-- = CaSO4(aq) + OH-'\n",
    "T = 300 # K\n",
    "p = 1e5 # Pa\n",
    "thermo.lnEquilibriumConstant(T, p, reac1).val\n",
    "\n",
    "Let's do the calculation by using the basic relation \n",
    "$$\\ln K_{eq} = \\frac{-\\Delta_r G}{RT} $$ \n",
    "\n",
    "dgrt = thermo.standardPartialMolarGibbsEnergy(T, p, 'CaSO4(aq)').val+ \\\n",
    "thermo.standardPartialMolarGibbsEnergy(T, p, 'OH-').val- \\\n",
    "thermo.standardPartialMolarGibbsEnergy(T, p, 'SO4--').val- \\\n",
    "thermo.standardPartialMolarGibbsEnergy(T, p, 'CaOH+').val\n",
    "-dgrt/8.3144598/T\n",
    "\n",
    "There is a small difference between the two values that I guess is due to the difference between the number of significant digits that I have used for the universal gas constant. Otherwise, everything works great, and the values are in agreement with what I have previously calculated.\n",
    "\n",
    "## What I miss\n",
    "I'm not quite sure if the oxidation/reduction reactions are included in Reaktoro, but it would be fantastic to be able to use them for the type of calculation that I do these days.\n",
    "\n",
    "# reaction: CaOH+ + CH3COO- = CaOH-CH3COO not possible with this database\n",
    "# I'll try similar reactions"
   ]
  }
 ],
 "metadata": {
  "kernelspec": {
   "display_name": "Python 3",
   "language": "python",
   "name": "python3"
  },
  "language_info": {
   "codemirror_mode": {
    "name": "ipython",
    "version": 3
   },
   "file_extension": ".py",
   "mimetype": "text/x-python",
   "name": "python",
   "nbconvert_exporter": "python",
   "pygments_lexer": "ipython3",
   "version": "3.5.1+"
  },
  "nikola": {
   "category": "",
   "date": "2017-05-23 09:02:37 UTC+02:00",
   "description": "",
   "link": "",
   "slug": "starting-with-reaktoro",
   "tags": "",
   "title": "Starting with Reaktoro",
   "type": "text"
  }
 },
 "nbformat": 4,
 "nbformat_minor": 2
}
