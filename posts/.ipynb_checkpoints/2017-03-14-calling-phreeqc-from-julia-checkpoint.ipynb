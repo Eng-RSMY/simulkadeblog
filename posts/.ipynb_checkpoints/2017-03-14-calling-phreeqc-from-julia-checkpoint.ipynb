{
 "cells": [
  {
   "cell_type": "markdown",
   "metadata": {
    "deletable": true,
    "editable": true
   },
   "source": [
    "In this post, I'm going to show how we can call [Phreeqc](https://wwwbrr.cr.usgs.gov/projects/GWC_coupled/phreeqc/) from Julia to calculate the solubility of minerals in a solution. The workflow is very useful specially when one wants to conduct a sensitivity analysis and plot the results. Here is my workflow:\n",
    "  - Create a Phreeqc input file in Julia\n",
    "  - Save it to a text file\n",
    "  - Call Phreeqc from Julia to run the created input file\n",
    "  - Read the results from the output file created by Phreeqc\n",
    "  - Plot the results\n",
    "If you are on windows, you need to add phreeqc to the path so you can call it from the command line.\n",
    "## create a Phreeqc simulation file\n",
    "The following string is a phreeqc input file that mixes 10.0 moles of anhydrite in 1 kg of demineralized water at 50 degree Celsius and 10 atm, and writes the molality of Ca ion in the aqueous solution to an output file named `anhydrite_solubility.csv`:\n",
    "```\n",
    "SOLUTION 1 Pure water\n",
    "    pH      7.0\n",
    "    temp    50.0\n",
    "\tpressure  10\n",
    "EQUILIBRIUM_PHASES 1\n",
    "    Anhydrite       0.0     10.0\n",
    "SELECTED_OUTPUT\n",
    "    -file   anhydrite_solubility.csv\n",
    "\t-reset false\n",
    "    -totals     Ca\n",
    "END\n",
    "```\n",
    "You can save this code in a file names e.g., `anhydrite_sol.phr`, and run it by\n",
    "```\n",
    "phreeqc anhydrite_sol.phr\n",
    "```\n",
    "if you have phreeqc installed and in your path. In windows, you can download [phreeqc for windows](http://www.hydrochemistry.eu/ph3/index.html) and run it.  \n",
    "\n",
    "## Sensitivity analysis \n",
    "My purpose here is to study the effect of thermodynamic models and databases, temperature, and pressure on the predicted solubility of anhydrite in water. It can be done manually, but I like to do it automatically from a Julia script. You ca do it in Matlab or any other tools of your choice.\n",
    "## The workflow\n",
    "We first create the Phreeqc input file as an string in Julia. Then, we save that script into a file and call phreeqc to run it. We save the results in an output file and read it in Julia. Finally we plot the results. The following script shows how this can be done in Julia. We need to use the packages `PyPlot` for visualization and `DataFrames` for reading the output file."
   ]
  },
  {
   "cell_type": "code",
   "execution_count": null,
   "metadata": {
    "collapsed": true
   },
   "outputs": [],
   "source": []
  }
 ],
 "metadata": {
  "kernelspec": {
   "display_name": "Python 2",
   "language": "python",
   "name": "python2"
  },
  "language_info": {
   "codemirror_mode": {
    "name": "ipython",
    "version": 2
   },
   "file_extension": ".py",
   "mimetype": "text/x-python",
   "name": "python",
   "nbconvert_exporter": "python",
   "pygments_lexer": "ipython2",
   "version": "2.7.12"
  },
  "nikola": {
   "category": "",
   "date": "2017-03-14 21:27:47 UTC+01:00",
   "description": "",
   "link": "",
   "slug": "2017-03-14-calling-phreeqc-from-julia",
   "tags": "",
   "title": "2017-03-14-calling-phreeqc-from-julia",
   "type": "text"
  }
 },
 "nbformat": 4,
 "nbformat_minor": 2
}
