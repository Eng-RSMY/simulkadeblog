{
 "cells": [
  {
   "cell_type": "markdown",
   "metadata": {
    "collapsed": false
   },
   "source": [
    "During the Cristmass holydays, I spent some time to convert my Matlab [FVTool](https://github.com/simulkade/FVTool) to a [Julia package](http://pkg.julialang.org/). The result, which I call [JFVM](https://github.com/simulkade/JFVM.jl) is a bit Matlabesque, but the package works. In this post I'm going to show how it works.\n",
    "\n",
    "## Installation\n",
    "To install the package, you can use `Pkg.add(\"JFVM\")` in Julia, or clone the most recent version (recommended). You need to have Julia installed. JFVM relies on `PyPlot`, `PyCall`, and `Mayavi` for visualization. Here's the procedure.\n",
    "\n",
    "### Linux\n",
    "You need to first install [Python](https://www.python.org/), [Matplotlib](http://matplotlib.org/), and [Mayavi](http://code.enthought.com/projects/mayavi/). To do it on an Ubuntu-based system, try\n",
    "```\n",
    "sudo apt-get install python2.7 python-matplotlib mayavi2\n",
    "```\n",
    "Then go to your `.julia/v0.4` or `.julia/v0.3` (recommended) folder and type\n",
    "```\n",
    "git clone https://github.com/simulkade/JFVM.jl.git\n",
    "```\n",
    "\n",
    "### Windows\n",
    "There used to be a few issues with 3D visualization in windows. The current version however should work fine. This is the workflow if you want to give it a try:\n",
    "\n",
    "  - Download and install Anaconda\n",
    "  - Run anaconda command prompt (as administrator) and install mayavi and wxpython:\n",
    "    * `conda install mayavi`\n",
    "    * `conda install wxpython` (Not necessary if you clone the last version of JFVM)\n",
    "  - Install github for windows\n",
    "  - open github shell, go to `.julia/v0.4` or `.julia/v0.3` and type:\n",
    "    * `git clone https://github.com/simulkade/JFVM.git`  \n",
    "\n",
    "Please let me know if it does not work on your windows machines.\n",
    "\n",
    "## What does it do?\n",
    "It solves a transient convection-diffusion equation, i.e., $$\\alpha\\frac{\\partial\\phi}{\\partial t}+\\nabla.\\left(\\mathbf{u}\\phi\\right)+\\nabla.\\left(-D\\nabla\\phi\\right)+\\beta\\phi=\\gamma$$ with the boundary condition: $$a\\nabla\\phi.\\mathbf{n}+b\\phi=c.$$ Each term, i.e., transient, convection, diffusion, linear source, and constant source terms can be called via a separate function, which makes it possible to use the code for solving various coupled and even non-linear convection-diffusion equations. The main difference between this code and the previous Matlab version is that in this one, nonuniform grids can be defined. The supported coordinates are  \n",
    "  - 1D axisymmetric (radial)\n",
    "  - 2D radial (r, theta)\n",
    "  - 2D Cartesian\n",
    "  - 3D Cartesian\n",
    "  - 2D axisymmetric (cylindrical, r, z)\n",
    "  - 3D cylindrical (r, theta, z)\n",
    "One other thing that I always had in mind is the possibility to use hetrogeneous transfer coefficients, e.g., a diffusion coefficient that is different on each cell. In addition, I wanted to be able to define different boundary conditions on the faces of the boundary cell. The last feature that I constantly miss in other PDE solvers is the Robin boundary condition, which can be defined quite easily in JFVM.  \n",
    "One last feature that I added in later stages was the periodic boundary condition.\n",
    "\n",
    "## A simple example\n",
    "This is perhaps the simplest example: a diffusion equation on a 1D domain, with a Dirichlet boundary on each side. The equation read $$\\nabla (-D \\nabla \\phi) = 0$$ where $\\phi$ is zero on the left and one on the right side of the domain. The formulation in `JFVM` always follows this sequence:\n",
    "  - Create a domain and mesh\n",
    "  - Create a boundary for the domain (default: Neumann)\n",
    "  - Change the boundary condition (optional)\n",
    "  - Define the initial condition (optional, only if you have transient terms)\n",
    "  - Define the transfer coefficients\n",
    "  - Calculate the matrix of coefficients and RHS vector for each transfer term in the PDE\n",
    "  - Call the linear solver\n",
    "  - Call the visualization tool\n",
    "There can be other steps in between depending on the problems."
   ]
  },
  {
   "cell_type": "code",
   "execution_count": 7,
   "metadata": {
    "collapsed": false
   },
   "outputs": [],
   "source": [
    "using JFVM, PyPlot"
   ]
  },
  {
   "cell_type": "code",
   "execution_count": 10,
   "metadata": {
    "collapsed": false
   },
   "outputs": [
    {
     "data": {
      "image/png": "[encoded data removed]",
      "text/plain": [
       "Figure(PyObject <matplotlib.figure.Figure object at 0x7fa9bcbbd5d0>)"
      ]
     },
     "metadata": {},
     "output_type": "display_data"
    },
    {
     "data": {
      "text/plain": [
       "PyObject <matplotlib.text.Text object at 0x7fa9bb423310>"
      ]
     },
     "execution_count": 10,
     "metadata": {},
     "output_type": "execute_result"
    }
   ],
   "source": [
    "L= 1.0 # length of the domain\n",
    "Nx= 20 # number of cells\n",
    "m= createMesh1D(Nx, L) # create the domain and mesh\n",
    "BC= createBC(m) # create the boundary condition\n",
    "BC.left.a[:]= 0.0 # left side Neumann term equal to zero\n",
    "BC.left.b[:]= 1.0 # left side Dirichlet term coefficient equal to one\n",
    "BC.left.c[:]= 0.0 # left side Dirichlet term value equal to zero\n",
    "BC.right.a[:]= 0.0\n",
    "BC.right.b[:]= 1.0\n",
    "BC.right.c[:]= 1.0\n",
    "D_val= 1.0 # value of the transfer coefficient\n",
    "D= createCellVariable(m, D_val) # assign D_val to all the cells\n",
    "# harmonic average of the transfer coefficient on the cell faces:\n",
    "D_face= harmonicMean(D)\n",
    "(Mbc, RHSbc)= boundaryConditionTerm(BC)\n",
    "Mdiff= diffusionTerm(D_face)\n",
    "M= Mdiff+Mbc # matrix of coefficients\n",
    "RHS= RHSbc # off course!\n",
    "phi= solveLinearPDE(m, M, RHS) # solve the linear PDE\n",
    "figure(figsize=(6.0,5.0)) # unit is [cm] for me\n",
    "visualizeCells(phi) # visualize the results\n",
    "# decorate the plot\n",
    "xlabel(\"x\", fontsize=16)\n",
    "ylabel(L\"\\phi\", fontsize=16)"
   ]
  },
  {
   "cell_type": "markdown",
   "metadata": {},
   "source": []
  }
 ],
 "metadata": {
  "kernelspec": {
   "display_name": "Julia 0.3.6",
   "language": "julia",
   "name": "julia 0.3"
  },
  "language_info": {
   "name": "julia",
   "version": "0.3.6"
  }
 },
 "nbformat": 4,
 "nbformat_minor": 0
}
